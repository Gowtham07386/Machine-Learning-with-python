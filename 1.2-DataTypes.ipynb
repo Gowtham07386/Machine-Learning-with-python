{
 "cells": [
  {
   "cell_type": "markdown",
   "metadata": {},
   "source": [
    "DataTypes"
   ]
  },
  {
   "cell_type": "markdown",
   "metadata": {},
   "source": [
    "A datatype is a classification or category that specifies the type of data a variable can hold in a programming language. It defines the operations that can be performed on the data, as well as the way the data is stored in memory.\n",
    "\n",
    "In Python, a datatype is a classification that specifies the type of value a variable can hold. It determines the operations that can be performed on the data and how the data is stored in memory.\n",
    "\n",
    "Common Data Types in Python:\n",
    "Numeric Types:\n",
    "\n",
    "int: Integer numbers (e.g., 10, -5)\n",
    "float: Floating-point numbers (e.g., 3.14, -2.5)\n",
    "complex: Complex numbers (e.g., 3+5j)\n",
    "Sequence Types:\n",
    "\n",
    "str: Strings (e.g., \"hello\", 'Python')\n",
    "list: Ordered, mutable collection (e.g., [1, 2, 3])\n",
    "tuple: Ordered, immutable collection (e.g., (1, 2, 3))\n",
    "Set Types:\n",
    "\n",
    "set: Unordered collection of unique elements (e.g., {1, 2, 3})\n",
    "frozenset: Immutable version of a set\n",
    "Mapping Types:\n",
    "\n",
    "dict: Collection of key-value pairs (e.g., {\"name\": \"John\", \"age\": 30})\n",
    "Boolean Type:\n",
    "\n",
    "bool: Logical values (True or False)\n",
    "Binary Types:\n",
    "\n",
    "bytes: Immutable sequence of bytes (e.g., b\"hello\")\n",
    "bytearray: Mutable sequence of bytes\n",
    "memoryview: Memory view object"
   ]
  },
  {
   "cell_type": "code",
   "execution_count": 1,
   "metadata": {},
   "outputs": [
    {
     "data": {
      "text/plain": [
       "int"
      ]
     },
     "execution_count": 1,
     "metadata": {},
     "output_type": "execute_result"
    }
   ],
   "source": [
    "#Integer Examples\n",
    "age=35\n",
    "type(age)"
   ]
  },
  {
   "cell_type": "code",
   "execution_count": 2,
   "metadata": {},
   "outputs": [
    {
     "name": "stdout",
     "output_type": "stream",
     "text": [
      "5.9\n",
      "<class 'float'>\n"
     ]
    }
   ],
   "source": [
    "#floating point datatype\n",
    "\n",
    "height=5.9\n",
    "print(height)\n",
    "print(type(height))"
   ]
  },
  {
   "cell_type": "code",
   "execution_count": 3,
   "metadata": {},
   "outputs": [
    {
     "name": "stdout",
     "output_type": "stream",
     "text": [
      " gowtham\n",
      "<class 'str'>\n"
     ]
    }
   ],
   "source": [
    "#String datatype examples\n",
    "\n",
    "name = \" gowtham\"\n",
    "\n",
    "print(name)\n",
    "print(type(name))"
   ]
  },
  {
   "cell_type": "code",
   "execution_count": 5,
   "metadata": {},
   "outputs": [
    {
     "data": {
      "text/plain": [
       "bool"
      ]
     },
     "execution_count": 5,
     "metadata": {},
     "output_type": "execute_result"
    }
   ],
   "source": [
    "#boolean datatype\n",
    "is_true=True\n",
    "type(is_true)"
   ]
  },
  {
   "cell_type": "code",
   "execution_count": 6,
   "metadata": {},
   "outputs": [
    {
     "data": {
      "text/plain": [
       "False"
      ]
     },
     "execution_count": 6,
     "metadata": {},
     "output_type": "execute_result"
    }
   ],
   "source": [
    "is_true =bool()\n",
    "is_true"
   ]
  },
  {
   "cell_type": "code",
   "execution_count": 10,
   "metadata": {},
   "outputs": [
    {
     "name": "stdout",
     "output_type": "stream",
     "text": [
      "True\n",
      "<class 'bool'>\n"
     ]
    }
   ],
   "source": [
    "a=98\n",
    "b=98\n",
    "\n",
    "print(a==b)\n",
    "print(type(a==b))"
   ]
  },
  {
   "cell_type": "code",
   "execution_count": 11,
   "metadata": {},
   "outputs": [
    {
     "ename": "TypeError",
     "evalue": "can only concatenate str (not \"int\") to str",
     "output_type": "error",
     "traceback": [
      "\u001b[1;31m---------------------------------------------------------------------------\u001b[0m",
      "\u001b[1;31mTypeError\u001b[0m                                 Traceback (most recent call last)",
      "Cell \u001b[1;32mIn[11], line 3\u001b[0m\n\u001b[0;32m      1\u001b[0m \u001b[38;5;66;03m#common Errors\u001b[39;00m\n\u001b[1;32m----> 3\u001b[0m result\u001b[38;5;241m=\u001b[39m \u001b[38;5;124;43m\"\u001b[39;49m\u001b[38;5;124;43mHello\u001b[39;49m\u001b[38;5;124;43m\"\u001b[39;49m\u001b[38;5;241;43m+\u001b[39;49m\u001b[38;5;241;43m5\u001b[39;49m\n",
      "\u001b[1;31mTypeError\u001b[0m: can only concatenate str (not \"int\") to str"
     ]
    }
   ],
   "source": [
    "#common Errors\n",
    "\n",
    "result= \"Hello\"+5\n",
    "\n"
   ]
  },
  {
   "cell_type": "code",
   "execution_count": 15,
   "metadata": {},
   "outputs": [
    {
     "name": "stdout",
     "output_type": "stream",
     "text": [
      "Hello6\n"
     ]
    }
   ],
   "source": [
    "result = \"Hello\"+str(6)#typecasting\n",
    "\n",
    "print(result)"
   ]
  },
  {
   "cell_type": "code",
   "execution_count": null,
   "metadata": {},
   "outputs": [],
   "source": []
  }
 ],
 "metadata": {
  "kernelspec": {
   "display_name": "Python 3",
   "language": "python",
   "name": "python3"
  },
  "language_info": {
   "codemirror_mode": {
    "name": "ipython",
    "version": 3
   },
   "file_extension": ".py",
   "mimetype": "text/x-python",
   "name": "python",
   "nbconvert_exporter": "python",
   "pygments_lexer": "ipython3",
   "version": "3.12.0"
  }
 },
 "nbformat": 4,
 "nbformat_minor": 2
}
