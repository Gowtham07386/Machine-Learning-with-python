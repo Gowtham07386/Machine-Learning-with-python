{
 "cells": [
  {
   "cell_type": "markdown",
   "id": "2b1e0eec",
   "metadata": {},
   "source": [
    "#### Lamdba Function in Python\n",
    "\n",
    "Lambda Function are small anonymous functions defined using the lambda keyword. They can have any number of arguments but only one expression.They are commonly used for short operations or as arguments to higher-order functions."
   ]
  },
  {
   "cell_type": "code",
   "execution_count": 2,
   "id": "a104322a",
   "metadata": {},
   "outputs": [
    {
     "data": {
      "text/plain": [
       "<function __main__.<lambda>(arguments)>"
      ]
     },
     "execution_count": 2,
     "metadata": {},
     "output_type": "execute_result"
    }
   ],
   "source": [
    "# Syntax \n",
    "lambda arguments: expression"
   ]
  },
  {
   "cell_type": "code",
   "execution_count": 3,
   "id": "484592f1",
   "metadata": {},
   "outputs": [
    {
     "data": {
      "text/plain": [
       "16"
      ]
     },
     "execution_count": 3,
     "metadata": {},
     "output_type": "execute_result"
    }
   ],
   "source": [
    "def add(a,b):\n",
    "    return a+b\n",
    "add(7,9)    "
   ]
  },
  {
   "cell_type": "code",
   "execution_count": 4,
   "id": "cf54c4ff",
   "metadata": {},
   "outputs": [
    {
     "name": "stdout",
     "output_type": "stream",
     "text": [
      "13\n"
     ]
    }
   ],
   "source": [
    "addition =lambda a,b :a+b\n",
    "\n",
    "type(addition)\n",
    "print(addition(5,8))"
   ]
  },
  {
   "cell_type": "code",
   "execution_count": 12,
   "id": "15f95698",
   "metadata": {},
   "outputs": [
    {
     "name": "stdout",
     "output_type": "stream",
     "text": [
      "False\n",
      "False\n"
     ]
    }
   ],
   "source": [
    "def even(num):\n",
    "    if num%2==0:\n",
    "        return True\n",
    "    else:\n",
    "        return False    \n",
    "print(even(89))\n",
    "#----------------------------------\n",
    "even1 = lambda num:num%2==0\n",
    "print(even1(79))\n"
   ]
  },
  {
   "cell_type": "code",
   "execution_count": 13,
   "id": "936d7ac7",
   "metadata": {},
   "outputs": [
    {
     "name": "stdout",
     "output_type": "stream",
     "text": [
      "222\n",
      "50\n"
     ]
    }
   ],
   "source": [
    "def addition(x,y,z):\n",
    "    return x+y+z\n",
    "print(addition(41,85,96))  \n",
    "#----------------------------------------\n",
    "\n",
    "add = lambda x,y,z : x+y+z\n",
    "print(add(12,13,25))  \n",
    "\n"
   ]
  },
  {
   "cell_type": "code",
   "execution_count": 22,
   "id": "79009d20",
   "metadata": {},
   "outputs": [
    {
     "name": "stdout",
     "output_type": "stream",
     "text": [
      "25\n",
      "[1, 4, 9, 16, 25, 36]\n"
     ]
    }
   ],
   "source": [
    "## map() - applies a function to all items in a list\n",
    "\n",
    "numbers =[1,2,3,4,5,6]\n",
    "def square(numbers):\n",
    "    \n",
    "    return numbers**2\n",
    "\n",
    "print(square(5))\n",
    "\n",
    "#------------------------------------------------------------------------\n",
    "squares=list(map(lambda x:x**2 ,numbers))\n",
    "\n",
    "print(squares)"
   ]
  },
  {
   "cell_type": "code",
   "execution_count": null,
   "id": "e046a53b",
   "metadata": {},
   "outputs": [],
   "source": []
  },
  {
   "cell_type": "code",
   "execution_count": null,
   "id": "9b704eb0",
   "metadata": {},
   "outputs": [],
   "source": []
  }
 ],
 "metadata": {
  "kernelspec": {
   "display_name": "Python 3",
   "language": "python",
   "name": "python3"
  },
  "language_info": {
   "codemirror_mode": {
    "name": "ipython",
    "version": 3
   },
   "file_extension": ".py",
   "mimetype": "text/x-python",
   "name": "python",
   "nbconvert_exporter": "python",
   "pygments_lexer": "ipython3",
   "version": "3.12.0"
  }
 },
 "nbformat": 4,
 "nbformat_minor": 5
}
