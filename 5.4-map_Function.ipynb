{
 "cells": [
  {
   "cell_type": "markdown",
   "id": "57e8bc59",
   "metadata": {},
   "source": [
    "#### The map() Function in Python\n",
    "\n",
    "The map() function applies a given function to all items in an input list(or any other iterable) and returns a map object(an iterator).This is particularly useful for transformaing data in a list comprehensively."
   ]
  },
  {
   "cell_type": "code",
   "execution_count": 2,
   "id": "b5f8b872",
   "metadata": {},
   "outputs": [
    {
     "data": {
      "text/plain": [
       "81"
      ]
     },
     "execution_count": 2,
     "metadata": {},
     "output_type": "execute_result"
    }
   ],
   "source": [
    "def square(x):\n",
    "    return x*x\n",
    "square(9)    "
   ]
  },
  {
   "cell_type": "code",
   "execution_count": 5,
   "id": "0b34d2ec",
   "metadata": {},
   "outputs": [
    {
     "data": {
      "text/plain": [
       "[1, 4, 9, 49, 64, 81, 144, 225, 625, 1225, 2025, 3025, 2704]"
      ]
     },
     "execution_count": 5,
     "metadata": {},
     "output_type": "execute_result"
    }
   ],
   "source": [
    "numbers=[1,2,3,7,8,9,12,15,25,35,45,55,52]\n",
    "list(map(square,numbers))"
   ]
  },
  {
   "cell_type": "code",
   "execution_count": 6,
   "id": "8901874c",
   "metadata": {},
   "outputs": [
    {
     "data": {
      "text/plain": [
       "[1, 4, 9, 16, 25, 36, 49, 64, 81]"
      ]
     },
     "execution_count": 6,
     "metadata": {},
     "output_type": "execute_result"
    }
   ],
   "source": [
    "## Lambda function with map\n",
    "\n",
    "numbers = [1,2,3,4,5,6,7,8,9]\n",
    "list(map(lambda x : x**2,numbers))"
   ]
  },
  {
   "cell_type": "code",
   "execution_count": 8,
   "id": "e4737ae6",
   "metadata": {},
   "outputs": [
    {
     "name": "stdout",
     "output_type": "stream",
     "text": [
      "[5, 7, 9, 13, 6]\n"
     ]
    }
   ],
   "source": [
    "## Map multiple iterables\n",
    "\n",
    "num1 =[1,2,3,4,5]\n",
    "num2 =[4,5,6,9,1]\n",
    "addnums =list(map(lambda x,y:x+y ,num1,num2))\n",
    "print(addnums)"
   ]
  },
  {
   "cell_type": "code",
   "execution_count": 9,
   "id": "887b479b",
   "metadata": {},
   "outputs": [
    {
     "name": "stdout",
     "output_type": "stream",
     "text": [
      "[1, 4, 3, 9, 5, 2]\n"
     ]
    }
   ],
   "source": [
    "## map() to convert a list of string to integers\n",
    "## USe map to convert string to integers\n",
    "str_numbers = ['1','4','3','9','5','2']\n",
    "int_num = list(map(int,str_numbers))\n",
    "\n",
    "print(int_num)"
   ]
  },
  {
   "cell_type": "code",
   "execution_count": 10,
   "id": "bd9d58f2",
   "metadata": {},
   "outputs": [
    {
     "name": "stdout",
     "output_type": "stream",
     "text": [
      "['APPLE', 'BANNANA', 'CHERRY']\n"
     ]
    }
   ],
   "source": [
    "# inbult function using map\n",
    "\n",
    "words = ['apple','bannana','cherry']\n",
    "upper_word = list(map(str.upper,words))\n",
    "print(upper_word)"
   ]
  },
  {
   "cell_type": "code",
   "execution_count": 12,
   "id": "a85bc85b",
   "metadata": {},
   "outputs": [
    {
     "data": {
      "text/plain": [
       "['Krishna', 'bhuvan']"
      ]
     },
     "execution_count": 12,
     "metadata": {},
     "output_type": "execute_result"
    }
   ],
   "source": [
    "def get_name(person):\n",
    "    return person['name']\n",
    "people = [\n",
    "    {'name':'Krishna','age':46},\n",
    "    {'name':'bhuvan','age':19}\n",
    "]    \n",
    "list(map(get_name,people))"
   ]
  },
  {
   "cell_type": "markdown",
   "id": "1f275929",
   "metadata": {},
   "source": [
    "#### Conclusion\n",
    "\n",
    " The map() function is a powerful tool for applying transformations to iterable data structures.It can be used with regular functions,lambda functions, and even multiple iterables,providing a versatile approach to data processing in python.By understanding and utilizing map(),you can write more efficient and readable and readable code."
   ]
  },
  {
   "cell_type": "code",
   "execution_count": null,
   "id": "0a1b177e",
   "metadata": {},
   "outputs": [],
   "source": []
  }
 ],
 "metadata": {
  "kernelspec": {
   "display_name": "Python 3",
   "language": "python",
   "name": "python3"
  },
  "language_info": {
   "codemirror_mode": {
    "name": "ipython",
    "version": 3
   },
   "file_extension": ".py",
   "mimetype": "text/x-python",
   "name": "python",
   "nbconvert_exporter": "python",
   "pygments_lexer": "ipython3",
   "version": "3.12.0"
  }
 },
 "nbformat": 4,
 "nbformat_minor": 5
}
