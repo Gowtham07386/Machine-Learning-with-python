{
 "cells": [
  {
   "cell_type": "markdown",
   "metadata": {},
   "source": [
    "Variables\n",
    "\n",
    "A variable is a symbolic name or reference used to store data in a program. It acts as a container that holds values that can be changed or reused during the execution of a program. Variables are fundamental in programming, allowing developers to manipulate and store data efficiently.\n",
    "\n",
    "Key Features:\n",
    "Name: A variable has a unique identifier (name) given by the programmer.\n",
    "\n",
    "Value: The data or value assigned to the variable.\n",
    "\n",
    "Type: The kind of data a variable holds (e.g., integer, string, float, etc.).\n",
    "\n",
    "Scope: Defines where the variable can be accessed in a program.\n"
   ]
  },
  {
   "cell_type": "code",
   "execution_count": 22,
   "metadata": {},
   "outputs": [],
   "source": [
    "a=100"
   ]
  },
  {
   "cell_type": "code",
   "execution_count": 23,
   "metadata": {},
   "outputs": [
    {
     "name": "stdout",
     "output_type": "stream",
     "text": [
      "age : 21\n",
      "height : 5.8\n",
      "name : Gowtham\n"
     ]
    }
   ],
   "source": [
    "## Declaring and Assigning Variables\n",
    "\n",
    "age=21\n",
    "height=5.8\n",
    "name=\"Gowtham\"\n",
    "is_student=True\n",
    "\n",
    "#printing thr variables\n",
    "\n",
    "print(\"age :\",age)\n",
    "print(\"height :\",height)\n",
    "print(\"name :\",name)\n"
   ]
  },
  {
   "cell_type": "code",
   "execution_count": 24,
   "metadata": {},
   "outputs": [],
   "source": [
    "#Naming Convinctions\n",
    "#Variables names should be descriptive\n",
    "#They must start with a letter or an '_' and contains letter,numbers and underscores\n",
    "# variables names case sensitive\n",
    "\n",
    "#valid variable names\n",
    "\n",
    "first_name=\"Gowtham\"\n",
    "last_name=\"Koppera\"\n"
   ]
  },
  {
   "cell_type": "code",
   "execution_count": 25,
   "metadata": {},
   "outputs": [
    {
     "data": {
      "text/plain": [
       "'2age=21\\nfirst-name=\"Gowtham\"\\n@name=\"Bhuvan Chandra\"\\n\\n'"
      ]
     },
     "execution_count": 25,
     "metadata": {},
     "output_type": "execute_result"
    }
   ],
   "source": [
    "#Invalid variable names\n",
    "'''2age=21\n",
    "first-name=\"Gowtham\"\n",
    "@name=\"Bhuvan Chandra\"\n",
    "\n",
    "'''"
   ]
  },
  {
   "cell_type": "code",
   "execution_count": 26,
   "metadata": {},
   "outputs": [
    {
     "data": {
      "text/plain": [
       "False"
      ]
     },
     "execution_count": 26,
     "metadata": {},
     "output_type": "execute_result"
    }
   ],
   "source": [
    "#case sensitivity\n",
    "\n",
    "name=\"Ram\"\n",
    "Name=\"laxman\"\n",
    "\n",
    "name==Name\n",
    "\n"
   ]
  },
  {
   "cell_type": "code",
   "execution_count": 27,
   "metadata": {},
   "outputs": [
    {
     "name": "stdout",
     "output_type": "stream",
     "text": [
      "<class 'str'>\n"
     ]
    }
   ],
   "source": [
    "#understing variables types \n",
    "#pyhton is dynamically typed , type of veriables is determined at runtime\n",
    "age = 21#int\n",
    "height = 5.8#float\n",
    "name = \"Gowtham\"#str\n",
    "is_student = True#bool\n",
    "\n",
    "print(type(name))"
   ]
  },
  {
   "cell_type": "code",
   "execution_count": 28,
   "metadata": {},
   "outputs": [
    {
     "data": {
      "text/plain": [
       "float"
      ]
     },
     "execution_count": 28,
     "metadata": {},
     "output_type": "execute_result"
    }
   ],
   "source": [
    "#Type Checking and Conversion \n",
    "\n",
    "type(height)"
   ]
  },
  {
   "cell_type": "code",
   "execution_count": 29,
   "metadata": {},
   "outputs": [
    {
     "name": "stdout",
     "output_type": "stream",
     "text": [
      "<class 'int'>\n",
      "21\n",
      "<class 'str'>\n"
     ]
    }
   ],
   "source": [
    "age = 21\n",
    "print(type(age))\n",
    "\n",
    "\n",
    "\n",
    "#Type conversion\n",
    "\n",
    "age_str = str(age)\n",
    "print(age_str)\n",
    "print(type(age_str))\n"
   ]
  },
  {
   "cell_type": "code",
   "execution_count": 30,
   "metadata": {},
   "outputs": [
    {
     "name": "stdout",
     "output_type": "stream",
     "text": [
      "<class 'int'>\n"
     ]
    }
   ],
   "source": [
    "age ='25'\n",
    "print(type(int(age)))\n"
   ]
  },
  {
   "cell_type": "code",
   "execution_count": 31,
   "metadata": {},
   "outputs": [
    {
     "data": {
      "text/plain": [
       "float"
      ]
     },
     "execution_count": 31,
     "metadata": {},
     "output_type": "execute_result"
    }
   ],
   "source": [
    "hight=5.10\n",
    "type(height)\n",
    "\n"
   ]
  },
  {
   "cell_type": "code",
   "execution_count": 32,
   "metadata": {},
   "outputs": [
    {
     "data": {
      "text/plain": [
       "5"
      ]
     },
     "execution_count": 32,
     "metadata": {},
     "output_type": "execute_result"
    }
   ],
   "source": [
    "int(height)\n"
   ]
  },
  {
   "cell_type": "code",
   "execution_count": 33,
   "metadata": {},
   "outputs": [
    {
     "name": "stdout",
     "output_type": "stream",
     "text": [
      "<class 'float'>\n"
     ]
    }
   ],
   "source": [
    "\n",
    "print(type(height))"
   ]
  },
  {
   "cell_type": "code",
   "execution_count": 34,
   "metadata": {},
   "outputs": [
    {
     "name": "stdout",
     "output_type": "stream",
     "text": [
      "10 <class 'int'>\n",
      "Hello <class 'str'>\n",
      "3.18 <class 'float'>\n"
     ]
    }
   ],
   "source": [
    "#Dynamic Typing\n",
    "#python allows the type of a vraible to change as the program executes\n",
    "\n",
    "var =10#int\n",
    "print(var,type(var))\n",
    "\n",
    "\n",
    "var=\"Hello\"\n",
    "print(var,type(var))\n",
    "\n",
    "var=3.18\n",
    "print(var,type(var))\n",
    "\n"
   ]
  },
  {
   "cell_type": "code",
   "execution_count": 36,
   "metadata": {},
   "outputs": [
    {
     "name": "stdout",
     "output_type": "stream",
     "text": [
      "54 <class 'int'>\n"
     ]
    }
   ],
   "source": [
    "##input \n",
    "\n",
    "age=int(input(\"What is your age:\"))\n",
    "print(age,type(age))"
   ]
  },
  {
   "cell_type": "code",
   "execution_count": 39,
   "metadata": {},
   "outputs": [
    {
     "name": "stdout",
     "output_type": "stream",
     "text": [
      "Sum: 14.0\n",
      "difference:  -4.0\n",
      "Product : 45.0\n",
      "Quotient: 0.5555555555555556\n"
     ]
    }
   ],
   "source": [
    "#Simple Calculator\n",
    "\n",
    "num1=float(input(\"enter first numner:\" ))\n",
    "num2=float(input(\"Enter second number :\"))\n",
    "\n",
    "sum = num1+num2\n",
    "difference = num1 - num2\n",
    "product =num1 * num2\n",
    "quotient = num1 / num2\n",
    "\n",
    "print(\"Sum:\", sum)\n",
    "print(\"difference: \",difference)\n",
    "print(\"Product :\",product)\n",
    "print(\"Quotient:\",quotient)\n",
    "\n"
   ]
  },
  {
   "cell_type": "code",
   "execution_count": null,
   "metadata": {},
   "outputs": [],
   "source": []
  }
 ],
 "metadata": {
  "kernelspec": {
   "display_name": "Python 3",
   "language": "python",
   "name": "python3"
  },
  "language_info": {
   "codemirror_mode": {
    "name": "ipython",
    "version": 3
   },
   "file_extension": ".py",
   "mimetype": "text/x-python",
   "name": "python",
   "nbconvert_exporter": "python",
   "pygments_lexer": "ipython3",
   "version": "3.12.0"
  }
 },
 "nbformat": 4,
 "nbformat_minor": 2
}
