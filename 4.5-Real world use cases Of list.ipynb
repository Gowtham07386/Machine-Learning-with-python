{
 "cells": [
  {
   "cell_type": "markdown",
   "id": "8b22b2f3",
   "metadata": {},
   "source": [
    "### Real world Examples Using Lists in python\n",
    "\n",
    "##### list are one of the most commonly used data structures in Python, thanks to their versatility and case of use.Here are several practical examples that illustrate their use in real-world scenarious"
   ]
  },
  {
   "cell_type": "markdown",
   "id": "f40e4028",
   "metadata": {},
   "source": [
    "#### Example 1.Manage A To Do List\n",
    " .Create a To Do List to keep Track Of Tasks"
   ]
  },
  {
   "cell_type": "code",
   "execution_count": 1,
   "id": "87b9152f",
   "metadata": {},
   "outputs": [
    {
     "name": "stdout",
     "output_type": "stream",
     "text": [
      "Don't forget to hit gym\n",
      "To Do List remaining\n",
      "-cook food\n",
      "-washing cloths \n",
      "-complete tasks\n",
      "-hit Gym\n",
      "-phone calls\n"
     ]
    }
   ],
   "source": [
    "to_do_list = [\"complete impact class\",\"cook food\" ,\"washing cloths \",\"complete tasks\"]\n",
    "#adding to task\n",
    "to_do_list.append(\"hit Gym\")\n",
    "to_do_list.append(\"phone calls\")\n",
    "\n",
    "##Removing a completed task\n",
    "to_do_list.remove(\"complete impact class\")\n",
    "\n",
    "## checking a completed task \n",
    "if \"hit Gym\" in to_do_list:\n",
    "    print(\"Don't forget to hit gym\")\n",
    "\n",
    "print(\"To Do List remaining\")\n",
    "for task in to_do_list:\n",
    "    print(f\"-{task}\")"
   ]
  },
  {
   "cell_type": "markdown",
   "id": "611e7a88",
   "metadata": {},
   "source": [
    "#### Example 2: Organizing StudentsnGrades\n",
    "\n",
    ".Creating a list to store and calculate average grades for students\n"
   ]
  },
  {
   "cell_type": "code",
   "execution_count": 2,
   "id": "89912a47",
   "metadata": {},
   "outputs": [
    {
     "name": "stdout",
     "output_type": "stream",
     "text": [
      "Average Grade : 90.29\n",
      "Highest Grade : 96\n",
      "Lowest Grade : 83\n"
     ]
    }
   ],
   "source": [
    "# organizing student grades\n",
    "\n",
    "grades =[89,95,87,96,94,88]\n",
    "\n",
    "#Adding a new grade\n",
    "grades.append(83)\n",
    "\n",
    "#Calculating the average grade\n",
    "average_grade = sum(grades)/len(grades)\n",
    "print(f\"Average Grade : {average_grade:.2f}\")\n",
    "\n",
    "#finding the highest and lowest grades\n",
    "highest_grade = max(grades)\n",
    "lowest_grade = min(grades)\n",
    "print(f\"Highest Grade : {highest_grade}\")\n",
    "print(f\"Lowest Grade : {lowest_grade}\")"
   ]
  },
  {
   "cell_type": "markdown",
   "id": "2bfa038b",
   "metadata": {},
   "source": [
    "#### Example 3: Managing An Inventory\n",
    "\n",
    ".Use a list to manage inventory items in a store"
   ]
  },
  {
   "cell_type": "code",
   "execution_count": 4,
   "id": "1e3a97b4",
   "metadata": {},
   "outputs": [
    {
     "name": "stdout",
     "output_type": "stream",
     "text": [
      "oranges are in stoke\n",
      "Inventory List\n",
      "-bananas\n",
      "-oranges\n",
      "-grapes\n",
      "-strawbarries\n"
     ]
    }
   ],
   "source": [
    "#Managing an inventory\n",
    "\n",
    "inventory = [\"apples\",\"bananas\",\"oranges\",\"grapes\"]\n",
    "\n",
    "#Adding a new item \n",
    "inventory.append(\"strawbarries\")\n",
    "\n",
    "#Removing an item that is out of stoke\n",
    "inventory.remove(\"apples\")\n",
    "\n",
    "#Checking if an item that is out of stoke\n",
    "item =\"oranges\"\n",
    "if item in inventory:\n",
    "    print(f\"{item} are in stoke\")\n",
    "else:\n",
    "    print(f\"{item} are out of stoke.\")   \n",
    "\n",
    "#printing the inventory \n",
    "print(\"Inventory List\")\n",
    "for item in inventory:\n",
    "    print(f\"-{item}\")     "
   ]
  },
  {
   "cell_type": "markdown",
   "id": "66374eef",
   "metadata": {},
   "source": [
    "#### Exapmle 4: Collecting User FeedBack\n",
    "\n",
    ".USe a list to collect and analyze user feedback."
   ]
  },
  {
   "cell_type": "code",
   "execution_count": 5,
   "id": "de63b240",
   "metadata": {},
   "outputs": [
    {
     "name": "stdout",
     "output_type": "stream",
     "text": [
      "Positive feedback count : 2\n",
      "User Feedback:\n",
      "-Great service!\n",
      "-Very satisfied\n",
      "-Could be better \n",
      "-Excellent experience\n",
      "-Not happy with the service\n"
     ]
    }
   ],
   "source": [
    "#collecting user feedback\n",
    "\n",
    "feedback = [\"Great service!\",\"Very satisfied\",\"Could be better \",\"Excellent experience\"]\n",
    "\n",
    "#Adding new feedback\n",
    "feedback.append(\"Not happy with the service\")\n",
    "\n",
    "#Counting specific feedback\n",
    "positive_feedback_count =sum(1 for comment in feedback if \"great\" in comment.lower() or \"excellent\" in comment.lower())\n",
    "print(f\"Positive feedback count : {positive_feedback_count}\")\n",
    "\n",
    "\n",
    "#Printing all feedback\n",
    "print(\"User Feedback:\")\n",
    "for comment in feedback:\n",
    "    print(f\"-{comment}\")\n",
    "\n",
    "\n",
    "\n"
   ]
  },
  {
   "cell_type": "code",
   "execution_count": null,
   "id": "09a9a84f",
   "metadata": {},
   "outputs": [],
   "source": []
  }
 ],
 "metadata": {
  "kernelspec": {
   "display_name": "Python 3",
   "language": "python",
   "name": "python3"
  },
  "language_info": {
   "codemirror_mode": {
    "name": "ipython",
    "version": 3
   },
   "file_extension": ".py",
   "mimetype": "text/x-python",
   "name": "python",
   "nbconvert_exporter": "python",
   "pygments_lexer": "ipython3",
   "version": "3.12.0"
  }
 },
 "nbformat": 4,
 "nbformat_minor": 5
}
