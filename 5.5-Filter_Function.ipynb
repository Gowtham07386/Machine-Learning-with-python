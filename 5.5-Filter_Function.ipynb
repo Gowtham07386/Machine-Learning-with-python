{
 "cells": [
  {
   "cell_type": "markdown",
   "id": "a2d7b85e",
   "metadata": {},
   "source": [
    "#### The filter() Function in Python\n",
    "\n",
    "The filter() function constructs an iterator from elements of an iterable for which a funciton returns true. it is used to filter out items from a list(or any other iterable) based on a condition."
   ]
  },
  {
   "cell_type": "code",
   "execution_count": 1,
   "id": "284e6921",
   "metadata": {},
   "outputs": [
    {
     "data": {
      "text/plain": [
       "True"
      ]
     },
     "execution_count": 1,
     "metadata": {},
     "output_type": "execute_result"
    }
   ],
   "source": [
    "def even(num):\n",
    "    if num%2 ==0:\n",
    "        return True\n",
    "even(432)        "
   ]
  },
  {
   "cell_type": "code",
   "execution_count": 2,
   "id": "75bd86ac",
   "metadata": {},
   "outputs": [
    {
     "data": {
      "text/plain": [
       "[2, 6, 8, 12, 14]"
      ]
     },
     "execution_count": 2,
     "metadata": {},
     "output_type": "execute_result"
    }
   ],
   "source": [
    "lst =[1,2,5,6,8,12,11,13,14,15,9,3]\n",
    "list(filter(even,lst))\n"
   ]
  },
  {
   "cell_type": "code",
   "execution_count": 4,
   "id": "8bd8fa80",
   "metadata": {},
   "outputs": [
    {
     "name": "stdout",
     "output_type": "stream",
     "text": [
      "[6, 7, 8]\n"
     ]
    }
   ],
   "source": [
    "#filter with a Lambda Function\n",
    "number = [1,2,3,4,5,6,7,8]\n",
    "greater_than_five =list(filter(lambda x:x>5,number))\n",
    "print(greater_than_five)"
   ]
  },
  {
   "cell_type": "code",
   "execution_count": 5,
   "id": "89191813",
   "metadata": {},
   "outputs": [
    {
     "name": "stdout",
     "output_type": "stream",
     "text": [
      "[6, 8]\n"
     ]
    }
   ],
   "source": [
    "## Filter with a lambda function and multiple conditions\n",
    "\n",
    "numbers = [1,4,3,2,5,6,7,8,9]\n",
    "even_greater_than_five=list(filter(lambda x:x>5 and x%2 ==0,numbers))\n",
    "print(even_greater_than_five)"
   ]
  },
  {
   "cell_type": "code",
   "execution_count": 6,
   "id": "c7f36588",
   "metadata": {},
   "outputs": [
    {
     "data": {
      "text/plain": [
       "[{'name': 'Krishna', 'Age': 46}, {'name': 'Krishnaveni', 'Age': 38}]"
      ]
     },
     "execution_count": 6,
     "metadata": {},
     "output_type": "execute_result"
    }
   ],
   "source": [
    "## filter() to check Age is greater then 25 in dictionaries\n",
    "people= [{'name':'Gowtham','Age':21},\n",
    "         {'name':'Bhuvan','Age':19},\n",
    "         {'name':'Krishna','Age':46},\n",
    "         {'name':'Krishnaveni','Age':38}\n",
    "         ]\n",
    "\n",
    "def age_greater_than_25(person):\n",
    "    return person['Age']>25\n",
    "\n",
    "list(filter(age_greater_than_25,people))"
   ]
  },
  {
   "cell_type": "markdown",
   "id": "5a8468e6",
   "metadata": {},
   "source": [
    "#### Conclusion\n",
    "\n",
    "The filter() function is a powerful tool for creating iterators that filter items out of an iterable based on a function.It is commonly used for data cleaning, filtering objects and removing unwanted elements from lists.By mastering filter(),you can write more concise and efficient code for processing and manipulating collections in Python.\n"
   ]
  },
  {
   "cell_type": "markdown",
   "id": "38c9de9a",
   "metadata": {},
   "source": []
  }
 ],
 "metadata": {
  "kernelspec": {
   "display_name": "Python 3",
   "language": "python",
   "name": "python3"
  },
  "language_info": {
   "codemirror_mode": {
    "name": "ipython",
    "version": 3
   },
   "file_extension": ".py",
   "mimetype": "text/x-python",
   "name": "python",
   "nbconvert_exporter": "python",
   "pygments_lexer": "ipython3",
   "version": "3.12.0"
  }
 },
 "nbformat": 4,
 "nbformat_minor": 5
}
