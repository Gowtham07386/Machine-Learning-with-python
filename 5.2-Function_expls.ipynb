{
 "cells": [
  {
   "cell_type": "markdown",
   "id": "9082a50d",
   "metadata": {},
   "source": [
    "### Functions Examples"
   ]
  },
  {
   "cell_type": "markdown",
   "id": "3ae2a3d5",
   "metadata": {},
   "source": [
    "#### Example 1: Temperature Conversion"
   ]
  },
  {
   "cell_type": "code",
   "execution_count": 5,
   "id": "73d7e593",
   "metadata": {},
   "outputs": [
    {
     "name": "stdout",
     "output_type": "stream",
     "text": [
      "29.444444444444443\n"
     ]
    }
   ],
   "source": [
    "def conv_temp(temp,unit):\n",
    "    \"\"\"This function converts temperature b/w Celsius and Fahrenheit \"\"\"\n",
    "    if unit =='C':\n",
    "\n",
    "      return  temp * 9/5 +32 #Celsius To Fahrenheit\n",
    "\n",
    "    elif unit =='F':\n",
    "      return (temp - 32) * 5/9 # Fahrenheit To Celsius\n",
    "    else:\n",
    "      return None\n",
    "n = int(input())\n",
    "m = input()\n",
    "print(conv_temp(n,m))\n"
   ]
  },
  {
   "cell_type": "markdown",
   "id": "acd030db",
   "metadata": {},
   "source": [
    "#### Example 2: Password Strength Checker"
   ]
  },
  {
   "cell_type": "code",
   "execution_count": 6,
   "id": "40eb554a",
   "metadata": {},
   "outputs": [
    {
     "name": "stdout",
     "output_type": "stream",
     "text": [
      "True\n"
     ]
    }
   ],
   "source": [
    "def is_strong_password(password):\n",
    "    \"\"\"This function checks if the password is strong or not\"\"\"\n",
    "    if len(password)<8:\n",
    "        return False\n",
    "    if not any(char.isdigit() for char in password):\n",
    "        return False\n",
    "    if not any(char.islower() for char in password):\n",
    "        return False\n",
    "    if not any(char.isupper() for char in password):\n",
    "        return False\n",
    "    if not any(char in '@#$%^&*!()_+' for char in password):\n",
    "        return False\n",
    "    return True\n",
    "lock = input()\n",
    "print(is_strong_password(lock))\n"
   ]
  },
  {
   "cell_type": "markdown",
   "id": "d317b987",
   "metadata": {},
   "source": [
    "#### Example 3: Calculate the The total Cost Of items In a Shopping Cart"
   ]
  },
  {
   "cell_type": "code",
   "execution_count": null,
   "id": "3cdcb6d8",
   "metadata": {},
   "outputs": [
    {
     "name": "stdout",
     "output_type": "stream",
     "text": [
      "218.0\n"
     ]
    }
   ],
   "source": [
    "def total_cost_cal(cart):\n",
    "    total_cost =0\n",
    "    for item in cart:\n",
    "        total_cost += item['Price'] * item['quantity']\n",
    "\n",
    "    return total_cost \n",
    "\n",
    "   \n",
    "## Examples cart data\n",
    "cart = [\n",
    "    {'name':'Apple','Price':0.4,'quantity':2},\n",
    "      {'name':'bannana','Price':0.2,'quantity':6},\n",
    "            {'name':'grapes','Price':0.6,'quantity':4},\n",
    "      {'name':'papaya','Price':0.7,'quantity':2}\n",
    "\n",
    "       ]\n",
    "total_cost =total_cost_cal(cart)\n",
    "print(total_cost)"
   ]
  },
  {
   "cell_type": "markdown",
   "id": "4abe42d7",
   "metadata": {},
   "source": [
    "#### Example 4: Check IF a String is palindrome\n"
   ]
  },
  {
   "cell_type": "code",
   "execution_count": 12,
   "id": "d0ec6ccc",
   "metadata": {},
   "outputs": [
    {
     "name": "stdout",
     "output_type": "stream",
     "text": [
      "ramamar is palindrome :True\n"
     ]
    }
   ],
   "source": [
    "\"\"\"str = input()\n",
    "if(str == str[::-1]):\n",
    "    print(f\"{str} is a palindrome\")\n",
    "else:\n",
    "    print(f\"{str} is not a palindrom\")    \"\"\"\n",
    "\n",
    "\n",
    "def is_palindrome(s):\n",
    "    s = s.lower().replace(\" \",\"\")\n",
    "    return s == s[::-1]\n",
    "np = input()\n",
    "str = is_palindrome(np)\n",
    "print(f\"{np} is palindrome :{str}\")\n"
   ]
  },
  {
   "cell_type": "markdown",
   "id": "3c719e58",
   "metadata": {},
   "source": [
    "#### Example 5: Calculate the factorials of a number using recursion"
   ]
  },
  {
   "cell_type": "code",
   "execution_count": 5,
   "id": "40ee6149",
   "metadata": {},
   "outputs": [
    {
     "name": "stdout",
     "output_type": "stream",
     "text": [
      "120\n"
     ]
    },
    {
     "data": {
      "text/plain": [
       "'\\nn = int(input())       \\nfact =1\\nfor i in range(1,n+1):\\n    fact = fact*i\\nprint(fact)  \\n'"
      ]
     },
     "execution_count": 5,
     "metadata": {},
     "output_type": "execute_result"
    }
   ],
   "source": [
    "def fact(n):\n",
    "    if n == 0:\n",
    "        return 1\n",
    "    else:\n",
    "        return n *fact(n-1)\n",
    "inp = int(input())\n",
    "factorial = fact(inp)\n",
    "print(factorial)  \n",
    "\n",
    "\n",
    "\"\"\"\n",
    "n = int(input())       \n",
    "fact =1\n",
    "for i in range(1,n+1):\n",
    "    fact = fact*i\n",
    "print(fact)  \n",
    "\"\"\"\n",
    "           "
   ]
  },
  {
   "cell_type": "markdown",
   "id": "ee2a8186",
   "metadata": {},
   "source": [
    "### Example 6: A function to read A file and count the frequency of each word"
   ]
  },
  {
   "cell_type": "code",
   "execution_count": 1,
   "id": "d45d8e22",
   "metadata": {},
   "outputs": [
    {
     "name": "stdout",
     "output_type": "stream",
     "text": [
      "{'jai': 1, 'sri': 1, 'ram': 1, 'hare': 2, 'krishna': 1, 'rama': 1}\n"
     ]
    }
   ],
   "source": [
    "def count_word(file_path):\n",
    "    word_count={}\n",
    "    with open(file_path,'r') as file:\n",
    "        for line in file:\n",
    "            words = line.split()\n",
    "            for word in words:\n",
    "                word = word.lower().strip('.,:;\"!@#$%^&*()\\'')\n",
    "                word_count[word]= word_count.get(word,0)+1\n",
    "    return word_count\n",
    "filepath = 'sample.txt'\n",
    "word_frequency = count_word(filepath)\n",
    "print(word_frequency)            \n",
    "            "
   ]
  },
  {
   "cell_type": "markdown",
   "id": "e4b46ee7",
   "metadata": {},
   "source": [
    "#### Example 7: Validate Email Address"
   ]
  },
  {
   "cell_type": "code",
   "execution_count": 4,
   "id": "b4db28d0",
   "metadata": {},
   "outputs": [
    {
     "name": "stdout",
     "output_type": "stream",
     "text": [
      "True\n",
      "False\n"
     ]
    }
   ],
   "source": [
    "import re\n",
    "\n",
    "def is_valid_mail(email):\n",
    "    \"This function checks if the email is valid .\"\n",
    "    pattern = r'^[a-zA-Z0-9]+@[a-zA-Z0-9]+\\.[a-zA-Z0-9]+$'\n",
    "\n",
    "    return re.match(pattern , email) is not None\n",
    "\n",
    "#Calling the function \n",
    "print(is_valid_mail(\"kopperagowtham40@gmail.com\"))\n",
    "print(is_valid_mail(\"_koppergowtham@gmail.$%^&\"))"
   ]
  },
  {
   "cell_type": "code",
   "execution_count": null,
   "id": "b7f19558",
   "metadata": {},
   "outputs": [],
   "source": []
  }
 ],
 "metadata": {
  "kernelspec": {
   "display_name": "Python 3",
   "language": "python",
   "name": "python3"
  },
  "language_info": {
   "codemirror_mode": {
    "name": "ipython",
    "version": 3
   },
   "file_extension": ".py",
   "mimetype": "text/x-python",
   "name": "python",
   "nbconvert_exporter": "python",
   "pygments_lexer": "ipython3",
   "version": "3.12.0"
  }
 },
 "nbformat": 4,
 "nbformat_minor": 5
}
