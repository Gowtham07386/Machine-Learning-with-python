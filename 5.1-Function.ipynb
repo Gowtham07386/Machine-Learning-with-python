{
 "cells": [
  {
   "cell_type": "markdown",
   "id": "58548baa",
   "metadata": {},
   "source": [
    "### Introduction to Functions\n",
    "\n",
    "##### Definition:\n",
    "\n",
    "A function is a block of code that performs a specific task. functions help in organizing code,reusing code and improving readability."
   ]
  },
  {
   "cell_type": "code",
   "execution_count": 1,
   "id": "6edbae54",
   "metadata": {},
   "outputs": [],
   "source": [
    "#Syntax \n",
    "\n",
    "def function_name(parameters):\n",
    "    \"\"\"Docstring\"\"\"\n",
    "    # Function body\n",
    "    return expression "
   ]
  },
  {
   "cell_type": "code",
   "execution_count": 3,
   "id": "f3713079",
   "metadata": {},
   "outputs": [
    {
     "name": "stdout",
     "output_type": "stream",
     "text": [
      "the number is even\n"
     ]
    }
   ],
   "source": [
    "## Why functions?\n",
    "\n",
    "\"\"\"num = 24\n",
    "if num %2 ==0:\n",
    "    print(\"The number is even\")\n",
    "else:\n",
    "    print(\"The number is odd\")  \"\"\"  \n",
    "    \n",
    "\n",
    "def even_or_odd(num):\n",
    "    \"\"\"This function finds even or odd\"\"\"\n",
    "    if num%2 ==0:\n",
    "        print(\"the number is even\")\n",
    "    else:\n",
    "        print(\"the number is odd\")\n",
    "n = int(input())        \n",
    "even_or_odd(n)\n",
    "          \n"
   ]
  },
  {
   "cell_type": "code",
   "execution_count": 6,
   "id": "eb5d50ee",
   "metadata": {},
   "outputs": [
    {
     "name": "stdout",
     "output_type": "stream",
     "text": [
      "11\n"
     ]
    }
   ],
   "source": [
    "## function with multiple parameters\n",
    "\n",
    "def add(a,b):\n",
    "    return a+b\n",
    "result = add(5,6)\n",
    "print(result)\n"
   ]
  },
  {
   "cell_type": "code",
   "execution_count": 9,
   "id": "72181472",
   "metadata": {},
   "outputs": [
    {
     "name": "stdout",
     "output_type": "stream",
     "text": [
      "Bolo jai sriram\n"
     ]
    }
   ],
   "source": [
    "# defult parameters\n",
    "\n",
    "\"\"\"def greet(name):\n",
    "    print(f\"Bolo {name}\")\n",
    "\n",
    "greet(\"hare Krishna\")   \"\"\"\n",
    "\n",
    "def greet(name =\"jai sriram\"):\n",
    "    print(f\"Bolo {name}\")\n",
    "\n",
    "greet()    \n",
    "\n"
   ]
  },
  {
   "cell_type": "code",
   "execution_count": 11,
   "id": "7f430105",
   "metadata": {},
   "outputs": [
    {
     "name": "stdout",
     "output_type": "stream",
     "text": [
      "1\n",
      "4\n",
      "5\n",
      "8\n",
      "7\n",
      "9\n",
      "6\n",
      "3\n",
      "2\n",
      "Gowtham\n"
     ]
    }
   ],
   "source": [
    "### Variable length Arguments\n",
    "\n",
    "## Positional And Key words arguments\n",
    "\n",
    "\n",
    "\"def print_numbers(num1,num2,num3,num4):\"\n",
    "def print_nums(*args):\n",
    "    for number in args:\n",
    "        print(number)\n",
    "\n",
    "print_nums(1,4,5,8,7,9,6,3,2,\"Gowtham\")\n"
   ]
  },
  {
   "cell_type": "code",
   "execution_count": 12,
   "id": "e96a77cc",
   "metadata": {},
   "outputs": [
    {
     "name": "stdout",
     "output_type": "stream",
     "text": [
      "name:gowtham\n",
      "Age:21\n",
      "country:India\n"
     ]
    }
   ],
   "source": [
    "## Keywords Arguments.\n",
    "\n",
    "def print_det(**kwargs):\n",
    "    for key,value in kwargs.items():\n",
    "        print(f\"{key}:{value}\")\n",
    "\n",
    "print_det(name =\"gowtham\",Age =21,country=\"India\")        \n",
    "\n"
   ]
  },
  {
   "cell_type": "code",
   "execution_count": 14,
   "id": "b92f7d59",
   "metadata": {},
   "outputs": [
    {
     "name": "stdout",
     "output_type": "stream",
     "text": [
      " Positional Argument :1\n",
      " Positional Argument :4\n",
      " Positional Argument :5\n",
      " Positional Argument :8\n",
      " Positional Argument :7\n",
      " Positional Argument :9\n",
      " Positional Argument :6\n",
      " Positional Argument :3\n",
      " Positional Argument :2\n",
      " Positional Argument :Gowtham\n",
      "name:gowtham\n",
      "Age:21\n",
      "country:India\n"
     ]
    }
   ],
   "source": [
    "# Combination \n",
    "\n",
    "def print_det(*args,**kwargs):\n",
    "    \n",
    "    for number in args:\n",
    "        print(f\" Positional Argument :{number}\")\n",
    "        \n",
    "    for key,value in kwargs.items():\n",
    "        print(f\"{key}:{value}\")\n",
    "\n",
    "print_det(1,4,5,8,7,9,6,3,2,\"Gowtham\",name =\"gowtham\",Age =21,country=\"India\")\n",
    "   \n",
    "\n"
   ]
  },
  {
   "cell_type": "code",
   "execution_count": 17,
   "id": "91a21936",
   "metadata": {},
   "outputs": [
    {
     "data": {
      "text/plain": [
       "(20, 9, -1, 0.8)"
      ]
     },
     "execution_count": 17,
     "metadata": {},
     "output_type": "execute_result"
    }
   ],
   "source": [
    "## return Statements\n",
    "\n",
    "def multiply(a,b):\n",
    "    return a*b,a+b,a-b,a/b\n",
    "multiply(4,5)\n"
   ]
  },
  {
   "cell_type": "code",
   "execution_count": null,
   "id": "213a85c5",
   "metadata": {},
   "outputs": [],
   "source": []
  }
 ],
 "metadata": {
  "kernelspec": {
   "display_name": "Python 3",
   "language": "python",
   "name": "python3"
  },
  "language_info": {
   "codemirror_mode": {
    "name": "ipython",
    "version": 3
   },
   "file_extension": ".py",
   "mimetype": "text/x-python",
   "name": "python",
   "nbconvert_exporter": "python",
   "pygments_lexer": "ipython3",
   "version": "3.12.0"
  }
 },
 "nbformat": 4,
 "nbformat_minor": 5
}
