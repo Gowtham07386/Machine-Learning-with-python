{
 "cells": [
  {
   "cell_type": "code",
   "execution_count": 3,
   "metadata": {},
   "outputs": [
    {
     "name": "stdout",
     "output_type": "stream",
     "text": [
      "19\n",
      "1\n",
      "90\n",
      "1.1111111111111112\n",
      "1\n",
      "1\n"
     ]
    }
   ],
   "source": [
    "#Arithmetic operators\n",
    "\n",
    "a=10\n",
    "b=9\n",
    "add_result =a+b\n",
    "sub_result =a-b\n",
    "mult_result=a*b\n",
    "div_result=a/b\n",
    "floor_div_result=a//b\n",
    "modulas_result=a%b\n",
    "\n",
    "exponention_result=a**b\n",
    "\n",
    "print(add_result)\n",
    "print(sub_result)\n",
    "print(mult_result)\n",
    "print(div_result)\n",
    "print(floor_div_result)\n",
    "print(modulas_result)"
   ]
  },
  {
   "cell_type": "markdown",
   "metadata": {},
   "source": [
    "Comparison Operators"
   ]
  },
  {
   "cell_type": "code",
   "execution_count": 5,
   "metadata": {},
   "outputs": [
    {
     "data": {
      "text/plain": [
       "True"
      ]
     },
     "execution_count": 5,
     "metadata": {},
     "output_type": "execute_result"
    }
   ],
   "source": [
    "#Comparison Operators\n",
    "# ==equal to \n",
    "\n",
    "a=789\n",
    "b=789\n",
    "a==b"
   ]
  },
  {
   "cell_type": "code",
   "execution_count": 7,
   "metadata": {},
   "outputs": [
    {
     "data": {
      "text/plain": [
       "False"
      ]
     },
     "execution_count": 7,
     "metadata": {},
     "output_type": "execute_result"
    }
   ],
   "source": [
    "str1=\"Gowtham\"\n",
    "str2=\"gowtham\"\n",
    "str1==str2"
   ]
  },
  {
   "cell_type": "code",
   "execution_count": 8,
   "metadata": {},
   "outputs": [
    {
     "data": {
      "text/plain": [
       "True"
      ]
     },
     "execution_count": 8,
     "metadata": {},
     "output_type": "execute_result"
    }
   ],
   "source": [
    "str1!=str2"
   ]
  },
  {
   "cell_type": "code",
   "execution_count": 9,
   "metadata": {},
   "outputs": [
    {
     "data": {
      "text/plain": [
       "True"
      ]
     },
     "execution_count": 9,
     "metadata": {},
     "output_type": "execute_result"
    }
   ],
   "source": [
    "#Grater than >\n",
    "\n",
    "num1=987\n",
    "\n",
    "num2=789\n",
    "num1>num2"
   ]
  },
  {
   "cell_type": "code",
   "execution_count": 10,
   "metadata": {},
   "outputs": [
    {
     "data": {
      "text/plain": [
       "True"
      ]
     },
     "execution_count": 10,
     "metadata": {},
     "output_type": "execute_result"
    }
   ],
   "source": [
    "#less than <\n",
    "\n",
    "print(num2<num1)"
   ]
  },
  {
   "cell_type": "code",
   "execution_count": 12,
   "metadata": {},
   "outputs": [
    {
     "name": "stdout",
     "output_type": "stream",
     "text": [
      "True\n",
      "True\n"
     ]
    }
   ],
   "source": [
    "#Greater than are equal to \n",
    "\n",
    "num1 =69\n",
    "num2 =69\n",
    "\n",
    "print(num1<=num2)\n",
    "print(num1>=num2)"
   ]
  },
  {
   "cell_type": "markdown",
   "metadata": {},
   "source": [
    "Logical Operators"
   ]
  },
  {
   "cell_type": "code",
   "execution_count": 24,
   "metadata": {},
   "outputs": [
    {
     "name": "stdout",
     "output_type": "stream",
     "text": [
      "True\n"
     ]
    }
   ],
   "source": [
    "# AND ,OR ,NOT\n",
    "\n",
    "X=True\n",
    "Y=True\n",
    "result = X and Y\n",
    "print(result)"
   ]
  },
  {
   "cell_type": "code",
   "execution_count": 25,
   "metadata": {},
   "outputs": [
    {
     "name": "stdout",
     "output_type": "stream",
     "text": [
      "False\n"
     ]
    }
   ],
   "source": [
    "\n",
    "X=True\n",
    "Y=False\n",
    "result = X and Y\n",
    "print(result)"
   ]
  },
  {
   "cell_type": "code",
   "execution_count": 29,
   "metadata": {},
   "outputs": [
    {
     "name": "stdout",
     "output_type": "stream",
     "text": [
      "True\n"
     ]
    }
   ],
   "source": [
    "# OR\n",
    "\n",
    "X=True\n",
    "Y=False\n",
    "reslut =X or Y\n",
    "print(result)"
   ]
  },
  {
   "cell_type": "code",
   "execution_count": 30,
   "metadata": {},
   "outputs": [
    {
     "data": {
      "text/plain": [
       "False"
      ]
     },
     "execution_count": 30,
     "metadata": {},
     "output_type": "execute_result"
    }
   ],
   "source": [
    "# Not Operator\n",
    "\n",
    "X = True\n",
    "\n",
    "not X"
   ]
  },
  {
   "cell_type": "code",
   "execution_count": 31,
   "metadata": {},
   "outputs": [
    {
     "name": "stdout",
     "output_type": "stream",
     "text": [
      "Addition :  139.0\n",
      "substacton : -31.0\n",
      "Multiplication : 4590.0\n",
      "Division 0.6352941176470588\n",
      "Floor_division : 0.0\n",
      "Modulas : 54.0\n",
      "Exponentiation : 1.7925430103829424e+147\n"
     ]
    }
   ],
   "source": [
    "# Simple Calculator\n",
    "\n",
    "num1 =float(input(\"Enter first number :\"))\n",
    "num2 =float(input(\"Enter second number :\"))\n",
    "\n",
    "#performing arthmetic operations\n",
    "\n",
    "addition = num1 + num2\n",
    "subtraction = num1 - num2\n",
    "multiplication = num1 * num2\n",
    "division = num1 / num2\n",
    "floor_division = num1//num2\n",
    "modulas = num1 % num2\n",
    "exponention = num1 ** num2\n",
    "\n",
    "#Displaying results\n",
    "print(\"Addition : \",addition)\n",
    "print(\"substacton :\",subtraction)\n",
    "print(\"Multiplication :\",multiplication)\n",
    "print(\"Division\",division)\n",
    "print(\"Floor_division :\",floor_division)\n",
    "print(\"Modulas :\",modulas)\n",
    "print(\"Exponentiation :\",exponention)"
   ]
  },
  {
   "cell_type": "code",
   "execution_count": null,
   "metadata": {},
   "outputs": [],
   "source": []
  }
 ],
 "metadata": {
  "kernelspec": {
   "display_name": "Python 3",
   "language": "python",
   "name": "python3"
  },
  "language_info": {
   "codemirror_mode": {
    "name": "ipython",
    "version": 3
   },
   "file_extension": ".py",
   "mimetype": "text/x-python",
   "name": "python",
   "nbconvert_exporter": "python",
   "pygments_lexer": "ipython3",
   "version": "3.12.0"
  }
 },
 "nbformat": 4,
 "nbformat_minor": 2
}
