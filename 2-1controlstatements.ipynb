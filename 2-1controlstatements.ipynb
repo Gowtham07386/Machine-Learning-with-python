{
 "cells": [
  {
   "cell_type": "code",
   "execution_count": 3,
   "metadata": {},
   "outputs": [
    {
     "name": "stdout",
     "output_type": "stream",
     "text": [
      "you are eligible to vote\n"
     ]
    }
   ],
   "source": [
    "##if statement\n",
    "age =int(input())\n",
    "if age >=18:\n",
    "    print(\"you are eligible to vote\")\n",
    "   "
   ]
  },
  {
   "cell_type": "code",
   "execution_count": 6,
   "metadata": {},
   "outputs": [
    {
     "name": "stdout",
     "output_type": "stream",
     "text": [
      "you are not eligible to vote,Because you are minor\n"
     ]
    }
   ],
   "source": [
    "##else Statement\n",
    "#else statement executed a block of code if the condition in the if statement is false.\n",
    "\n",
    "age =int(input())\n",
    "if age >=18:\n",
    "    print(\"you are eligible to vote\")\n",
    "else:\n",
    "    print(\"you are not eligible to vote,Because you are minor\")    "
   ]
  },
  {
   "cell_type": "code",
   "execution_count": 14,
   "metadata": {},
   "outputs": [
    {
     "name": "stdout",
     "output_type": "stream",
     "text": [
      "You are  an old\n"
     ]
    }
   ],
   "source": [
    "#elif\n",
    "## The elif statement allows you to check multiple condition.It stands for \"else if\"\n",
    "age =int(input(\"Enter the age : \"))\n",
    "if age<=13:\n",
    "    print(\"You are a child\")\n",
    "elif age<19:\n",
    "    print(\"You are a teenager\")\n",
    "elif age<60:\n",
    "    print(\"You are an adult\")      \n",
    "elif age>=60:\n",
    "    print(\"You are  an old\")  \n",
    "else:\n",
    "    print(f\"please enter age \")    \n",
    "\n"
   ]
  },
  {
   "cell_type": "code",
   "execution_count": 2,
   "metadata": {},
   "outputs": [
    {
     "name": "stdout",
     "output_type": "stream",
     "text": [
      "The number is positive \n",
      "The number is even\n"
     ]
    }
   ],
   "source": [
    "##Nested Conditional Statements\n",
    "\n",
    "#you can place one or more if ,elif or else statements inside another if ,elif or else statements to create nested comditional statements.\n",
    "\n",
    "#number even ,odd,negative\n",
    "\n",
    "num=(int(input(\"Enter the number\")))\n",
    "\n",
    "if num>=0:\n",
    "    print(\"The number is positive \")\n",
    "    if num%2==0:\n",
    "        print(\"The number is even\")\n",
    "    else:\n",
    "        print(\"The number is odd\")\n",
    "\n",
    "else:\n",
    "    print(\"The number is ZERO or Negative\")            "
   ]
  },
  {
   "cell_type": "code",
   "execution_count": 6,
   "metadata": {},
   "outputs": [
    {
     "name": "stdout",
     "output_type": "stream",
     "text": [
      "1236 is a leap year\n"
     ]
    }
   ],
   "source": [
    "## Practical Example \n",
    "\n",
    "## Determine if  year is a leap year using conditional statements \n",
    "\n",
    "year =int(input(\"Enter the year : \"))\n",
    "if year%4==0:\n",
    "    if year%100==0:\n",
    "        if year%400==0:\n",
    "            print(f\"{year} ,is a leap year\")\n",
    "        else:\n",
    "            print(f\"{year} is not a leap year\")\n",
    "    else:\n",
    "        print(f\"{year} is a leap year\")\n",
    "else:\n",
    "    print(f\"{year} is not a leap year\")\n"
   ]
  },
  {
   "cell_type": "code",
   "execution_count": 9,
   "metadata": {},
   "outputs": [
    {
     "name": "stdout",
     "output_type": "stream",
     "text": [
      "Result: 9.0\n"
     ]
    }
   ],
   "source": [
    "#Example\n",
    "\n",
    "#Simple Calculater Programm\n",
    "\n",
    "num1 = float(input(\"Enter first number :\"))\n",
    "num2 = float(input(\"Enter Second number :\"))\n",
    "operation = input(\"Enter operation(+,-,*,/):\")\n",
    "\n",
    "#perform the requested operation\n",
    "if operation =='+':\n",
    "    result =num1+num2\n",
    "elif operation =='-':\n",
    "    result=num1-num2\n",
    "elif operation =='*':\n",
    "    result=num1*num2\n",
    "elif operation =='/':\n",
    "    if num2!=0:\n",
    "        result=num1/num2      \n",
    "    else:\n",
    "        result =\"Error! Division by zero\"\n",
    "\n",
    "else:\n",
    "    result =\"Invalid Operation\"\n",
    "\n",
    "print(\"Result:\",result)"
   ]
  },
  {
   "cell_type": "code",
   "execution_count": 10,
   "metadata": {},
   "outputs": [
    {
     "name": "stdout",
     "output_type": "stream",
     "text": [
      "Ticket price: $20\n"
     ]
    }
   ],
   "source": [
    "## Determine the ticket price based on age and whether the person is a student.\n",
    "\n",
    "age =int(input(\"enter your age:\"))\n",
    "is_student = input(\"Are you a student?(yes/no):\").lower()\n",
    "\n",
    "if age <5:\n",
    "    price =\"Free\"\n",
    "elif age <=12:\n",
    "    price =\"$9\"\n",
    "elif age <=17:\n",
    "    if is_student==\"yes\":\n",
    "        price =\"$12\"        \n",
    "    else:\n",
    "        price =\"$15\" \n",
    "elif age<=64:\n",
    "    if is_student==\"yes\":\n",
    "        price=\"$18\"\n",
    "    else:\n",
    "        price =\"$20\"\n",
    "else:\n",
    "    price=\"$22\"\n",
    "\n",
    "print(\"Ticket price:\",price)                      \n"
   ]
  },
  {
   "cell_type": "code",
   "execution_count": null,
   "metadata": {},
   "outputs": [],
   "source": []
  }
 ],
 "metadata": {
  "kernelspec": {
   "display_name": "Python 3",
   "language": "python",
   "name": "python3"
  },
  "language_info": {
   "codemirror_mode": {
    "name": "ipython",
    "version": 3
   },
   "file_extension": ".py",
   "mimetype": "text/x-python",
   "name": "python",
   "nbconvert_exporter": "python",
   "pygments_lexer": "ipython3",
   "version": "3.12.0"
  }
 },
 "nbformat": 4,
 "nbformat_minor": 2
}
