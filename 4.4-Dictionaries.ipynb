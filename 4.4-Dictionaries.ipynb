{
 "cells": [
  {
   "cell_type": "markdown",
   "id": "5bc2b66d",
   "metadata": {},
   "source": [
    "## Dictionaries"
   ]
  },
  {
   "cell_type": "markdown",
   "id": "dc0aa646",
   "metadata": {},
   "source": [
    "# Introduction to Dictionaries\n",
    "\n",
    "Dictionaries are unordred collection of items.They store data in key-value pairs.key must be unique and immutable(e.g.., Strings , numberes, or tuples),while values can be of any type."
   ]
  },
  {
   "cell_type": "code",
   "execution_count": 2,
   "id": "74274947",
   "metadata": {},
   "outputs": [
    {
     "name": "stdout",
     "output_type": "stream",
     "text": [
      "{}\n",
      "<class 'dict'>\n"
     ]
    }
   ],
   "source": [
    "##  creating Dictionaries\n",
    "empty_dict ={}\n",
    "print(empty_dict)\n",
    "print(type(empty_dict))"
   ]
  },
  {
   "cell_type": "code",
   "execution_count": 3,
   "id": "8953ab6d",
   "metadata": {},
   "outputs": [
    {
     "name": "stdout",
     "output_type": "stream",
     "text": [
      "{}\n"
     ]
    }
   ],
   "source": [
    "empty_dict= dict()\n",
    "print(empty_dict)"
   ]
  },
  {
   "cell_type": "code",
   "execution_count": 6,
   "id": "3bf21d12",
   "metadata": {},
   "outputs": [
    {
     "name": "stdout",
     "output_type": "stream",
     "text": [
      "{'Name': 'Gowtham', 'Age': 21, 'Grade': 'A'}\n",
      "<class 'dict'>\n"
     ]
    }
   ],
   "source": [
    "student ={\"Name\":\"Gowtham\",\"Age\":21,\"Grade\":\"A\"}\n",
    "print(student)\n",
    "print(type(student))"
   ]
  },
  {
   "cell_type": "code",
   "execution_count": 8,
   "id": "2daad8fb",
   "metadata": {},
   "outputs": [
    {
     "name": "stdout",
     "output_type": "stream",
     "text": [
      "{'Name': 'Bhuvan', 'Age': 21, 'Grade': 'A'}\n"
     ]
    }
   ],
   "source": [
    "student ={\"Name\":\"Gowtham\",\"Age\":21,\"Grade\":\"A\",\"Name\":\"Bhuvan\"}\n",
    "print(student)"
   ]
  },
  {
   "cell_type": "code",
   "execution_count": 9,
   "id": "ccef1a4e",
   "metadata": {},
   "outputs": [
    {
     "name": "stdout",
     "output_type": "stream",
     "text": [
      "{'Name': 'Bhuvan', 'Age': 21, 'Grade': 'A'}\n"
     ]
    }
   ],
   "source": [
    "## accessing Dictionary elements\n",
    "\n",
    "tudent ={\"Name\":\"Gowtham\",\"Age\":21,\"Grade\":\"A\"}\n",
    "print(student)\n"
   ]
  },
  {
   "cell_type": "code",
   "execution_count": 12,
   "id": "b2ae386a",
   "metadata": {},
   "outputs": [
    {
     "name": "stdout",
     "output_type": "stream",
     "text": [
      "A\n",
      "21\n",
      "A\n",
      "None\n",
      "Not Available\n"
     ]
    }
   ],
   "source": [
    "## accessing Dictionary elements\n",
    "print(student[\"Grade\"])\n",
    "print(student['Age'])\n",
    "\n",
    "## Accessing using get() method\n",
    "print(student.get('Grade'))\n",
    "print(student.get('last_name'))\n",
    "print(student.get('last_name',\"Not Available\"))\n"
   ]
  },
  {
   "cell_type": "code",
   "execution_count": 13,
   "id": "381df6b1",
   "metadata": {},
   "outputs": [
    {
     "name": "stdout",
     "output_type": "stream",
     "text": [
      "{'Name': 'Bhuvan', 'Age': 21, 'Grade': 'A'}\n"
     ]
    }
   ],
   "source": [
    "## Modifing Dictionary Elements\n",
    "\n",
    "## Dictionary are mutable, so you can add, update or delete elements\n",
    "\n",
    "print(student)"
   ]
  },
  {
   "cell_type": "code",
   "execution_count": null,
   "id": "4c45a053",
   "metadata": {},
   "outputs": [
    {
     "name": "stdout",
     "output_type": "stream",
     "text": [
      "{'Name': 'Bhuvan', 'Age': 52, 'Grade': 'A'}\n",
      "{'Name': 'Bhuvan', 'Age': 52, 'Grade': 'A', 'Address': 'Sattenagudem'}\n"
     ]
    }
   ],
   "source": [
    "student[\"Age\"]=52 #updated value for the key\n",
    "print(student)\n",
    "student[\"Address\"]=\"Sattenagudem\" #add a new key and value\n",
    "print(student)\n"
   ]
  },
  {
   "cell_type": "code",
   "execution_count": 16,
   "id": "f71ac4ef",
   "metadata": {},
   "outputs": [
    {
     "name": "stdout",
     "output_type": "stream",
     "text": [
      "{'Name': 'Bhuvan', 'Age': 52, 'Address': 'Sattenagudem'}\n"
     ]
    }
   ],
   "source": [
    "# delete the key and value\n",
    "del student[\"Grade\"]\n",
    "print(student)"
   ]
  },
  {
   "cell_type": "code",
   "execution_count": 18,
   "id": "c46bbdb4",
   "metadata": {},
   "outputs": [
    {
     "name": "stdout",
     "output_type": "stream",
     "text": [
      "dict_keys(['Name', 'Age', 'Address'])\n",
      "dict_values(['Bhuvan', 52, 'Sattenagudem'])\n",
      "dict_items([('Name', 'Bhuvan'), ('Age', 52), ('Address', 'Sattenagudem')])\n"
     ]
    }
   ],
   "source": [
    "## Dictionary methods\n",
    "\n",
    "keys = student.keys()#get all the keys\n",
    "print(keys)\n",
    "values = student.values()# get all values\n",
    "print(values)\n",
    "\n",
    "\n",
    "items =student.items()\n",
    "print(items)\n"
   ]
  },
  {
   "cell_type": "code",
   "execution_count": 19,
   "id": "17e23202",
   "metadata": {},
   "outputs": [
    {
     "name": "stdout",
     "output_type": "stream",
     "text": [
      "{'Name': 'Bhuvan', 'Age': 52, 'Address': 'Sattenagudem'}\n",
      "{'Name': 'Bhuvan', 'Age': 52, 'Address': 'Sattenagudem'}\n"
     ]
    }
   ],
   "source": [
    "## Shallow copy\n",
    "student_copy =student\n",
    "print(student)\n",
    "print(student_copy)\n"
   ]
  },
  {
   "cell_type": "code",
   "execution_count": 23,
   "id": "5d035eb3",
   "metadata": {},
   "outputs": [
    {
     "name": "stdout",
     "output_type": "stream",
     "text": [
      "{'Name': 'Gowtham1', 'Age': 52, 'Address': 'Sattenagudem'}\n"
     ]
    }
   ],
   "source": [
    "student[\"Name\"]=\"Gowtham1\"\n",
    "print(student)\n"
   ]
  },
  {
   "cell_type": "code",
   "execution_count": 24,
   "id": "4bde3f63",
   "metadata": {},
   "outputs": [
    {
     "name": "stdout",
     "output_type": "stream",
     "text": [
      "{'Name': 'Gowtham1', 'Age': 52, 'Address': 'Sattenagudem'}\n",
      "{'Name': 'Gowtham1', 'Age': 52, 'Address': 'Sattenagudem'}\n"
     ]
    }
   ],
   "source": [
    "student_copy1=student.copy()##shallow copy\n",
    "print(student_copy1)\n",
    "print(student)"
   ]
  },
  {
   "cell_type": "code",
   "execution_count": 25,
   "id": "09fe1794",
   "metadata": {},
   "outputs": [
    {
     "name": "stdout",
     "output_type": "stream",
     "text": [
      "{'Name': 'Gowtham1', 'Age': 52, 'Address': 'Sattenagudem'}\n",
      "{'Name': 'Krishna', 'Age': 52, 'Address': 'Sattenagudem'}\n"
     ]
    }
   ],
   "source": [
    "student[\"Name\"]=\"Krishna\"\n",
    "print(student_copy1)\n",
    "print(student)"
   ]
  },
  {
   "cell_type": "code",
   "execution_count": 26,
   "id": "a0d9ab2f",
   "metadata": {},
   "outputs": [
    {
     "name": "stdout",
     "output_type": "stream",
     "text": [
      "Name\n",
      "Age\n",
      "Address\n"
     ]
    }
   ],
   "source": [
    "## Iterating Over Dictionaries\n",
    "## You can use loops to iterate over dictionatries , keys , values or items\n",
    "\n",
    "## Iterating  over keys\n",
    "\n",
    "for keys in student.keys():\n",
    "    print(keys)"
   ]
  },
  {
   "cell_type": "code",
   "execution_count": 27,
   "id": "c8c3e67c",
   "metadata": {},
   "outputs": [
    {
     "name": "stdout",
     "output_type": "stream",
     "text": [
      "Krishna\n",
      "52\n",
      "Sattenagudem\n"
     ]
    }
   ],
   "source": [
    "# Iterate over values\n",
    "\n",
    "for value in student.values():\n",
    "    print(value)"
   ]
  },
  {
   "cell_type": "code",
   "execution_count": 28,
   "id": "106e13a4",
   "metadata": {},
   "outputs": [
    {
     "name": "stdout",
     "output_type": "stream",
     "text": [
      "Name:Krishna\n",
      "Age:52\n",
      "Address:Sattenagudem\n"
     ]
    }
   ],
   "source": [
    "# Iterate over key value pairs\n",
    "\n",
    "for key,value in student.items():\n",
    "    print(f\"{key}:{value}\")"
   ]
  },
  {
   "cell_type": "code",
   "execution_count": 9,
   "id": "f80399a4",
   "metadata": {},
   "outputs": [
    {
     "name": "stdout",
     "output_type": "stream",
     "text": [
      "{'student1': {'Name': 'Gowtham', 'Age': 21}, 'student2': {'Name': 'Rama', 'Age': 20}}\n"
     ]
    }
   ],
   "source": [
    "## Nested Disctionaries \n",
    "\n",
    "students={\n",
    "    \"student1\":{\"Name\":\"Gowtham\",\"Age\":21},\n",
    "    \"student2\":{\"Name\":\"Rama\",\"Age\":20}\n",
    "}\n",
    "print(students)"
   ]
  },
  {
   "cell_type": "code",
   "execution_count": 4,
   "id": "557037a8",
   "metadata": {},
   "outputs": [
    {
     "name": "stdout",
     "output_type": "stream",
     "text": [
      "Rama\n",
      "20\n"
     ]
    }
   ],
   "source": [
    "## Access nested dictionaries elements\n",
    "print(students[\"student2\"][\"Name\"])\n",
    "print(students[\"student2\"][\"Age\"])\n"
   ]
  },
  {
   "cell_type": "code",
   "execution_count": 5,
   "id": "18efd4cd",
   "metadata": {},
   "outputs": [
    {
     "data": {
      "text/plain": [
       "dict_items([('student1', {'Name': 'Gowthm', 'Age': 21}), ('student2', {'Name': 'Rama', 'Age': 20})])"
      ]
     },
     "execution_count": 5,
     "metadata": {},
     "output_type": "execute_result"
    }
   ],
   "source": [
    "students.items()"
   ]
  },
  {
   "cell_type": "code",
   "execution_count": 8,
   "id": "109ad879",
   "metadata": {},
   "outputs": [
    {
     "name": "stdout",
     "output_type": "stream",
     "text": [
      "student1:{'Name': 'Gowthm', 'Age': 21}\n",
      "Name:Gowthm\n",
      "Age:21\n",
      "student2:{'Name': 'Rama', 'Age': 20}\n",
      "Name:Rama\n",
      "Age:20\n"
     ]
    }
   ],
   "source": [
    "## Iterating over nested dictionaries\n",
    "\n",
    "for student_id, student_info in students.items():\n",
    "    print(f\"{student_id}:{student_info}\")\n",
    "    for key,value in student_info.items():\n",
    "        print(f\"{key}:{value}\")"
   ]
  },
  {
   "cell_type": "code",
   "execution_count": 12,
   "id": "ef1fd151",
   "metadata": {},
   "outputs": [
    {
     "name": "stdout",
     "output_type": "stream",
     "text": [
      "{0: 0, 1: 1, 2: 4, 3: 9, 4: 16}\n"
     ]
    }
   ],
   "source": [
    "## dictionary Comphrehension\n",
    "squares={x:x**2 for x in range(5)}\n",
    "print(squares)\n"
   ]
  },
  {
   "cell_type": "code",
   "execution_count": 14,
   "id": "1bbd8293",
   "metadata": {},
   "outputs": [
    {
     "name": "stdout",
     "output_type": "stream",
     "text": [
      "{0: 0, 2: 4, 4: 16, 6: 36, 8: 64}\n"
     ]
    }
   ],
   "source": [
    "## Conditional Dictionary comprehension\n",
    "\n",
    "evens={x:x**2 for x in range(10) if x%2==0}\n",
    "print(evens)"
   ]
  },
  {
   "cell_type": "code",
   "execution_count": 15,
   "id": "58efe4fb",
   "metadata": {},
   "outputs": [
    {
     "name": "stdout",
     "output_type": "stream",
     "text": [
      "{1: 1, 2: 4, 3: 2, 4: 3, 5: 4}\n"
     ]
    }
   ],
   "source": [
    "# practical Example \n",
    "\n",
    "## USe a dictionary to count he frequency of elements in list \n",
    "numbers =[1,2,2,2,2,3,3,4,4,4,5,5,5,5]\n",
    "frequency ={}\n",
    "for number in numbers:\n",
    "    if number in frequency:\n",
    "        frequency[number]+=1\n",
    "    else:\n",
    "        frequency[number]=1\n",
    "print(frequency)        \n"
   ]
  },
  {
   "cell_type": "code",
   "execution_count": 17,
   "id": "cdb25d4c",
   "metadata": {},
   "outputs": [
    {
     "name": "stdout",
     "output_type": "stream",
     "text": [
      "{'a': 1, 'b': 3, 'c': 4}\n"
     ]
    }
   ],
   "source": [
    "## Merge 2 dictionaries into one\n",
    "\n",
    "dict1={\"a\":1,\"b\":2}\n",
    "dict2={\"b\":3,\"c\":4}\n",
    "merged_dict = {**dict1,**dict2}\n",
    "print(merged_dict)"
   ]
  },
  {
   "cell_type": "code",
   "execution_count": null,
   "id": "e52f4b4b",
   "metadata": {},
   "outputs": [],
   "source": []
  }
 ],
 "metadata": {
  "kernelspec": {
   "display_name": "Python 3",
   "language": "python",
   "name": "python3"
  },
  "language_info": {
   "codemirror_mode": {
    "name": "ipython",
    "version": 3
   },
   "file_extension": ".py",
   "mimetype": "text/x-python",
   "name": "python",
   "nbconvert_exporter": "python",
   "pygments_lexer": "ipython3",
   "version": "3.12.0"
  }
 },
 "nbformat": 4,
 "nbformat_minor": 5
}
